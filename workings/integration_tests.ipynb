{
 "cells": [
  {
   "cell_type": "code",
   "execution_count": 41,
   "metadata": {},
   "outputs": [
    {
     "name": "stdout",
     "output_type": "stream",
     "text": [
      "0.25000499999999926   2.24559882125925  Wattage  8.982215640724213\n",
      "0.5000100000000024   4.491197642508496  Wattage  8.982215640684196\n",
      "0.7500150000000055   6.736796463726478  Wattage  8.982215640559144\n",
      "1.0000200000000086   8.982395284929225  Wattage  8.982215640498207\n",
      "1.250024999999995   11.227994106116967  Wattage  8.982215640438183\n",
      "1.5000299999999815   13.473592927279242  Wattage  8.982215640336321\n",
      "1.750034999999968   15.719191748667072  Wattage  8.982215641238522\n",
      "2.0000399999999545   17.964790570353216  Wattage  8.982215642431756\n"
     ]
    }
   ],
   "source": [
    "M = 112\n",
    "z = 0\n",
    "delta = 0.016667\n",
    "\n",
    "energytimewindow = 0.25\n",
    "energytimer = 0\n",
    "prevtotalenergy = 0\n",
    "p = 0\n",
    "v = 0\n",
    "g = 9.81\n",
    "t = 0\n",
    "\n",
    "# these printed results should be zero.  It gets closer to there if we reduce the timestep\n",
    "# But it is the inherent inaccuracy of the Euler method\n",
    "delta *= 0.1\n",
    "\n",
    "# replicate this by changing values in gliderkinematics\n",
    "# v = 0 so it drops straight down\n",
    "# lift = 0 to stop sideways movement\n",
    "# drag = 0 or fixed value to get it to match a simple integration here\n",
    "\n",
    "# Energy also needs to include the lift component that makes work done\n",
    "\n",
    "while t < 2:\n",
    "    p += v*delta\n",
    "    dv = -g\n",
    "    v += dv*delta\n",
    "    t += delta\n",
    "    energytimer += delta\n",
    "    totalenergy = 0.5*M*v**2 + 1*p*g*M\n",
    "    if energytimer > energytimewindow:\n",
    "        #print(t, v, totalenergy, \" Wattage \", (totalenergy-prevtotalenergy)/energytimer)\n",
    "        #print(p/t**2, v/t, totalenergy)\n",
    "        print(t, \" \", totalenergy, \" Wattage \", (totalenergy-prevtotalenergy)/energytimer)\n",
    "        prevtotalenergy = totalenergy\n",
    "        energytimer = 0.0\n",
    "\n"
   ]
  },
  {
   "cell_type": "code",
   "execution_count": 36,
   "metadata": {},
   "outputs": [
    {
     "data": {
      "text/plain": [
       "-336.8398231887308"
      ]
     },
     "execution_count": 36,
     "metadata": {},
     "output_type": "execute_result"
    }
   ],
   "source": [
    "-2.452549050000001**2*0.5*(90+22)"
   ]
  },
  {
   "cell_type": "code",
   "execution_count": null,
   "metadata": {},
   "outputs": [],
   "source": []
  }
 ],
 "metadata": {
  "kernelspec": {
   "display_name": "Python 3",
   "language": "python",
   "name": "python3"
  },
  "language_info": {
   "codemirror_mode": {
    "name": "ipython",
    "version": 3
   },
   "file_extension": ".py",
   "mimetype": "text/x-python",
   "name": "python",
   "nbconvert_exporter": "python",
   "pygments_lexer": "ipython3",
   "version": "3.7.4"
  }
 },
 "nbformat": 4,
 "nbformat_minor": 2
}
